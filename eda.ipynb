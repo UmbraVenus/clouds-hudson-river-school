{
 "cells": [
  {
   "cell_type": "markdown",
   "metadata": {},
   "source": [
    "# Exploratory Data Analysis Between Durand, Church, Gifford, and Cole"
   ]
  },
  {
   "cell_type": "code",
   "execution_count": 1,
   "metadata": {},
   "outputs": [],
   "source": [
    "# Importing required libraries.\n",
    "# reference: https://towardsdatascience.com/exploratory-data-analysis-in-python-c9a77dfa39ce\n",
    "import pandas as pd\n",
    "import numpy as np\n",
    "import seaborn as sns #visualisation\n",
    "import matplotlib.pyplot as plt #visualisation\n",
    "%matplotlib inline \n",
    "sns.set(color_codes=True)"
   ]
  },
  {
   "cell_type": "code",
   "execution_count": 61,
   "metadata": {},
   "outputs": [
    {
     "data": {
      "text/html": [
       "<div>\n",
       "<style scoped>\n",
       "    .dataframe tbody tr th:only-of-type {\n",
       "        vertical-align: middle;\n",
       "    }\n",
       "\n",
       "    .dataframe tbody tr th {\n",
       "        vertical-align: top;\n",
       "    }\n",
       "\n",
       "    .dataframe thead th {\n",
       "        text-align: right;\n",
       "    }\n",
       "</style>\n",
       "<table border=\"1\" class=\"dataframe\">\n",
       "  <thead>\n",
       "    <tr style=\"text-align: right;\">\n",
       "      <th></th>\n",
       "      <th>Unnamed: 0</th>\n",
       "      <th>index</th>\n",
       "      <th>Artist</th>\n",
       "      <th>Art Name</th>\n",
       "      <th>Date</th>\n",
       "      <th>Image Thumbnail</th>\n",
       "    </tr>\n",
       "  </thead>\n",
       "  <tbody>\n",
       "    <tr>\n",
       "      <th>0</th>\n",
       "      <td>0</td>\n",
       "      <td>0</td>\n",
       "      <td>Asher Brown Durand</td>\n",
       "      <td>The Declaration of Independence, July 4, 1776</td>\n",
       "      <td>1823</td>\n",
       "      <td>https://stor.artstor.org/stor/e676f1cc-b8ed-4b...</td>\n",
       "    </tr>\n",
       "    <tr>\n",
       "      <th>1</th>\n",
       "      <td>1</td>\n",
       "      <td>1</td>\n",
       "      <td>Asher Brown Durand</td>\n",
       "      <td>Kaaterskill Landscape</td>\n",
       "      <td>1850</td>\n",
       "      <td>https://stor.artstor.org/stor/7d7f42c3-66b4-41...</td>\n",
       "    </tr>\n",
       "    <tr>\n",
       "      <th>2</th>\n",
       "      <td>2</td>\n",
       "      <td>2</td>\n",
       "      <td>Asher Brown Durand</td>\n",
       "      <td>Kindred spirits</td>\n",
       "      <td>1849</td>\n",
       "      <td>https://stor.artstor.org/stor/4e029f92-5ede-49...</td>\n",
       "    </tr>\n",
       "    <tr>\n",
       "      <th>4</th>\n",
       "      <td>4</td>\n",
       "      <td>4</td>\n",
       "      <td>Asher Brown Durand</td>\n",
       "      <td>Forest in the Morning Light</td>\n",
       "      <td>1855</td>\n",
       "      <td>https://stor.artstor.org/stor/d9031fcc-b1d1-4a...</td>\n",
       "    </tr>\n",
       "    <tr>\n",
       "      <th>5</th>\n",
       "      <td>5</td>\n",
       "      <td>5</td>\n",
       "      <td>Asher Brown Durand</td>\n",
       "      <td>A Pastoral Scene</td>\n",
       "      <td>1858</td>\n",
       "      <td>https://stor.artstor.org/stor/b5447cd0-0e12-49...</td>\n",
       "    </tr>\n",
       "  </tbody>\n",
       "</table>\n",
       "</div>"
      ],
      "text/plain": [
       "   Unnamed: 0  index              Artist  \\\n",
       "0           0      0  Asher Brown Durand   \n",
       "1           1      1  Asher Brown Durand   \n",
       "2           2      2  Asher Brown Durand   \n",
       "4           4      4  Asher Brown Durand   \n",
       "5           5      5  Asher Brown Durand   \n",
       "\n",
       "                                        Art Name  Date  \\\n",
       "0  The Declaration of Independence, July 4, 1776  1823   \n",
       "1                          Kaaterskill Landscape  1850   \n",
       "2                                Kindred spirits  1849   \n",
       "4                    Forest in the Morning Light  1855   \n",
       "5                               A Pastoral Scene  1858   \n",
       "\n",
       "                                     Image Thumbnail  \n",
       "0  https://stor.artstor.org/stor/e676f1cc-b8ed-4b...  \n",
       "1  https://stor.artstor.org/stor/7d7f42c3-66b4-41...  \n",
       "2  https://stor.artstor.org/stor/4e029f92-5ede-49...  \n",
       "4  https://stor.artstor.org/stor/d9031fcc-b1d1-4a...  \n",
       "5  https://stor.artstor.org/stor/b5447cd0-0e12-49...  "
      ]
     },
     "execution_count": 61,
     "metadata": {},
     "output_type": "execute_result"
    }
   ],
   "source": [
    "# Asher Brown Durand\n",
    "ab = pd.read_csv(\"data/abdurand.csv\")\n",
    "ab['Date'] = ab['Date'].str.extract(r'(\\d{4})')\n",
    "ab.dropna(inplace=True)\n",
    "ab['Date'] = ab['Date'].astype(int)\n",
    "ab.head(5)"
   ]
  },
  {
   "cell_type": "code",
   "execution_count": 62,
   "metadata": {},
   "outputs": [
    {
     "data": {
      "text/html": [
       "<div>\n",
       "<style scoped>\n",
       "    .dataframe tbody tr th:only-of-type {\n",
       "        vertical-align: middle;\n",
       "    }\n",
       "\n",
       "    .dataframe tbody tr th {\n",
       "        vertical-align: top;\n",
       "    }\n",
       "\n",
       "    .dataframe thead th {\n",
       "        text-align: right;\n",
       "    }\n",
       "</style>\n",
       "<table border=\"1\" class=\"dataframe\">\n",
       "  <thead>\n",
       "    <tr style=\"text-align: right;\">\n",
       "      <th></th>\n",
       "      <th>Unnamed: 0</th>\n",
       "      <th>index</th>\n",
       "      <th>Artist</th>\n",
       "      <th>Art Name</th>\n",
       "      <th>Date</th>\n",
       "      <th>Image Thumbnail</th>\n",
       "    </tr>\n",
       "  </thead>\n",
       "  <tbody>\n",
       "    <tr>\n",
       "      <th>0</th>\n",
       "      <td>0</td>\n",
       "      <td>0</td>\n",
       "      <td>Frederic Edwin Church</td>\n",
       "      <td>Our Banner in the Sky</td>\n",
       "      <td>1861</td>\n",
       "      <td>https://mdxdv.artstor.org/thumb/imgstor/size1/...</td>\n",
       "    </tr>\n",
       "    <tr>\n",
       "      <th>1</th>\n",
       "      <td>1</td>\n",
       "      <td>1</td>\n",
       "      <td>Frederic Edwin Church</td>\n",
       "      <td>Heart of the Andes</td>\n",
       "      <td>1859</td>\n",
       "      <td>https://stor.artstor.org/stor/da362ce1-98e1-49...</td>\n",
       "    </tr>\n",
       "    <tr>\n",
       "      <th>2</th>\n",
       "      <td>2</td>\n",
       "      <td>2</td>\n",
       "      <td>Frederic Edwin Church</td>\n",
       "      <td>View of Cotopaxi</td>\n",
       "      <td>1857</td>\n",
       "      <td>https://stor.artstor.org/stor/37d688da-4421-4b...</td>\n",
       "    </tr>\n",
       "    <tr>\n",
       "      <th>3</th>\n",
       "      <td>3</td>\n",
       "      <td>3</td>\n",
       "      <td>Frederic Edwin Church</td>\n",
       "      <td>Niagara</td>\n",
       "      <td>1857</td>\n",
       "      <td>https://stor.artstor.org/stor/102a9b4f-9c58-48...</td>\n",
       "    </tr>\n",
       "    <tr>\n",
       "      <th>4</th>\n",
       "      <td>4</td>\n",
       "      <td>4</td>\n",
       "      <td>Frederic Edwin Church</td>\n",
       "      <td>Mt. Ktaadn</td>\n",
       "      <td>1853</td>\n",
       "      <td>https://stor.artstor.org/stor/071324db-ea99-4c...</td>\n",
       "    </tr>\n",
       "  </tbody>\n",
       "</table>\n",
       "</div>"
      ],
      "text/plain": [
       "   Unnamed: 0  index                 Artist               Art Name  Date  \\\n",
       "0           0      0  Frederic Edwin Church  Our Banner in the Sky  1861   \n",
       "1           1      1  Frederic Edwin Church     Heart of the Andes  1859   \n",
       "2           2      2  Frederic Edwin Church       View of Cotopaxi  1857   \n",
       "3           3      3  Frederic Edwin Church                Niagara  1857   \n",
       "4           4      4  Frederic Edwin Church             Mt. Ktaadn  1853   \n",
       "\n",
       "                                     Image Thumbnail  \n",
       "0  https://mdxdv.artstor.org/thumb/imgstor/size1/...  \n",
       "1  https://stor.artstor.org/stor/da362ce1-98e1-49...  \n",
       "2  https://stor.artstor.org/stor/37d688da-4421-4b...  \n",
       "3  https://stor.artstor.org/stor/102a9b4f-9c58-48...  \n",
       "4  https://stor.artstor.org/stor/071324db-ea99-4c...  "
      ]
     },
     "execution_count": 62,
     "metadata": {},
     "output_type": "execute_result"
    }
   ],
   "source": [
    "# Frederic Edwin Church\n",
    "fe = pd.read_csv(\"data/fechurch.csv\")\n",
    "fe['Date'] = fe['Date'].str.extract(r'(\\d{4})')\n",
    "fe.dropna(inplace=True)\n",
    "fe['Date'] = fe['Date'].astype(int)\n",
    "fe.head(5)"
   ]
  },
  {
   "cell_type": "code",
   "execution_count": 63,
   "metadata": {},
   "outputs": [
    {
     "data": {
      "text/html": [
       "<div>\n",
       "<style scoped>\n",
       "    .dataframe tbody tr th:only-of-type {\n",
       "        vertical-align: middle;\n",
       "    }\n",
       "\n",
       "    .dataframe tbody tr th {\n",
       "        vertical-align: top;\n",
       "    }\n",
       "\n",
       "    .dataframe thead th {\n",
       "        text-align: right;\n",
       "    }\n",
       "</style>\n",
       "<table border=\"1\" class=\"dataframe\">\n",
       "  <thead>\n",
       "    <tr style=\"text-align: right;\">\n",
       "      <th></th>\n",
       "      <th>Unnamed: 0</th>\n",
       "      <th>index</th>\n",
       "      <th>Artist</th>\n",
       "      <th>Art Name</th>\n",
       "      <th>Date</th>\n",
       "      <th>Image Thumbnail</th>\n",
       "    </tr>\n",
       "  </thead>\n",
       "  <tbody>\n",
       "    <tr>\n",
       "      <th>0</th>\n",
       "      <td>0</td>\n",
       "      <td>0</td>\n",
       "      <td>Sanford Robinson Gifford</td>\n",
       "      <td>Hook Mountain, Near Nyack, on the Hudson</td>\n",
       "      <td>1866</td>\n",
       "      <td>https://stor.artstor.org/stor/0007c581-8518-44...</td>\n",
       "    </tr>\n",
       "    <tr>\n",
       "      <th>1</th>\n",
       "      <td>1</td>\n",
       "      <td>4</td>\n",
       "      <td>Sanford Robinson Gifford</td>\n",
       "      <td>Hunter Mountain, Twilight</td>\n",
       "      <td>1866</td>\n",
       "      <td>https://mdxdv.artstor.org/thumb/imgstor/size1/...</td>\n",
       "    </tr>\n",
       "    <tr>\n",
       "      <th>2</th>\n",
       "      <td>2</td>\n",
       "      <td>5</td>\n",
       "      <td>Sanford Robinson Gifford</td>\n",
       "      <td>Whiteface Mountain from Lake Placid</td>\n",
       "      <td>1866</td>\n",
       "      <td>https://stor.artstor.org/stor/60914e55-3f14-4f...</td>\n",
       "    </tr>\n",
       "    <tr>\n",
       "      <th>3</th>\n",
       "      <td>3</td>\n",
       "      <td>6</td>\n",
       "      <td>Sanford Robinson Gifford</td>\n",
       "      <td>Tivoli</td>\n",
       "      <td>1870</td>\n",
       "      <td>https://stor.artstor.org/stor/98a82c9e-96df-40...</td>\n",
       "    </tr>\n",
       "    <tr>\n",
       "      <th>4</th>\n",
       "      <td>4</td>\n",
       "      <td>7</td>\n",
       "      <td>Sanford Robinson Gifford</td>\n",
       "      <td>A Gorge in the Mountains (Kauterskill Clove)</td>\n",
       "      <td>1862</td>\n",
       "      <td>https://stor.artstor.org/stor/b90f4023-6cd9-45...</td>\n",
       "    </tr>\n",
       "  </tbody>\n",
       "</table>\n",
       "</div>"
      ],
      "text/plain": [
       "   Unnamed: 0  index                    Artist  \\\n",
       "0           0      0  Sanford Robinson Gifford   \n",
       "1           1      4  Sanford Robinson Gifford   \n",
       "2           2      5  Sanford Robinson Gifford   \n",
       "3           3      6  Sanford Robinson Gifford   \n",
       "4           4      7  Sanford Robinson Gifford   \n",
       "\n",
       "                                       Art Name  Date  \\\n",
       "0      Hook Mountain, Near Nyack, on the Hudson  1866   \n",
       "1                     Hunter Mountain, Twilight  1866   \n",
       "2           Whiteface Mountain from Lake Placid  1866   \n",
       "3                                        Tivoli  1870   \n",
       "4  A Gorge in the Mountains (Kauterskill Clove)  1862   \n",
       "\n",
       "                                     Image Thumbnail  \n",
       "0  https://stor.artstor.org/stor/0007c581-8518-44...  \n",
       "1  https://mdxdv.artstor.org/thumb/imgstor/size1/...  \n",
       "2  https://stor.artstor.org/stor/60914e55-3f14-4f...  \n",
       "3  https://stor.artstor.org/stor/98a82c9e-96df-40...  \n",
       "4  https://stor.artstor.org/stor/b90f4023-6cd9-45...  "
      ]
     },
     "execution_count": 63,
     "metadata": {},
     "output_type": "execute_result"
    }
   ],
   "source": [
    "# Sanford Robinson Gifford\n",
    "sr = pd.read_csv(\"data/srgifford.csv\")\n",
    "sr['Date'] = sr['Date'].str.extract(r'(\\d{4})')\n",
    "sr.dropna(inplace=True)\n",
    "sr['Date'] = sr['Date'].astype(int)\n",
    "sr.head(5)"
   ]
  },
  {
   "cell_type": "code",
   "execution_count": 64,
   "metadata": {},
   "outputs": [
    {
     "data": {
      "text/html": [
       "<div>\n",
       "<style scoped>\n",
       "    .dataframe tbody tr th:only-of-type {\n",
       "        vertical-align: middle;\n",
       "    }\n",
       "\n",
       "    .dataframe tbody tr th {\n",
       "        vertical-align: top;\n",
       "    }\n",
       "\n",
       "    .dataframe thead th {\n",
       "        text-align: right;\n",
       "    }\n",
       "</style>\n",
       "<table border=\"1\" class=\"dataframe\">\n",
       "  <thead>\n",
       "    <tr style=\"text-align: right;\">\n",
       "      <th></th>\n",
       "      <th>Unnamed: 0</th>\n",
       "      <th>index</th>\n",
       "      <th>Artist</th>\n",
       "      <th>Art Name</th>\n",
       "      <th>Date</th>\n",
       "      <th>Image Thumbnail</th>\n",
       "    </tr>\n",
       "  </thead>\n",
       "  <tbody>\n",
       "    <tr>\n",
       "      <th>0</th>\n",
       "      <td>0</td>\n",
       "      <td>0</td>\n",
       "      <td>Thomas Cole</td>\n",
       "      <td>View from Mount Holyoke, Northampton, Massachu...</td>\n",
       "      <td>1836</td>\n",
       "      <td>https://stor.artstor.org/stor/9e73d2b2-40b3-4f...</td>\n",
       "    </tr>\n",
       "    <tr>\n",
       "      <th>1</th>\n",
       "      <td>1</td>\n",
       "      <td>1</td>\n",
       "      <td>Thomas Cole</td>\n",
       "      <td>New England Scenery</td>\n",
       "      <td>1839</td>\n",
       "      <td>https://stor.artstor.org/stor/7efe4ec8-866d-4e...</td>\n",
       "    </tr>\n",
       "    <tr>\n",
       "      <th>2</th>\n",
       "      <td>2</td>\n",
       "      <td>2</td>\n",
       "      <td>Thomas Cole</td>\n",
       "      <td>Landscape with Figures: A Scene from \"The Last...</td>\n",
       "      <td>1826</td>\n",
       "      <td>https://mdxdv.artstor.org/thumb/imgstor/size1/...</td>\n",
       "    </tr>\n",
       "    <tr>\n",
       "      <th>3</th>\n",
       "      <td>3</td>\n",
       "      <td>3</td>\n",
       "      <td>Thomas Cole</td>\n",
       "      <td>The Course of Empire: Desolation</td>\n",
       "      <td>1836</td>\n",
       "      <td>https://stor.artstor.org/stor/e3912495-a1c9-4d...</td>\n",
       "    </tr>\n",
       "    <tr>\n",
       "      <th>4</th>\n",
       "      <td>4</td>\n",
       "      <td>4</td>\n",
       "      <td>Thomas Cole</td>\n",
       "      <td>The Course of Empire: The Savage State</td>\n",
       "      <td>1834</td>\n",
       "      <td>https://stor.artstor.org/stor/411d80c3-58bb-47...</td>\n",
       "    </tr>\n",
       "  </tbody>\n",
       "</table>\n",
       "</div>"
      ],
      "text/plain": [
       "   Unnamed: 0  index       Artist  \\\n",
       "0           0      0  Thomas Cole   \n",
       "1           1      1  Thomas Cole   \n",
       "2           2      2  Thomas Cole   \n",
       "3           3      3  Thomas Cole   \n",
       "4           4      4  Thomas Cole   \n",
       "\n",
       "                                            Art Name  Date  \\\n",
       "0  View from Mount Holyoke, Northampton, Massachu...  1836   \n",
       "1                                New England Scenery  1839   \n",
       "2  Landscape with Figures: A Scene from \"The Last...  1826   \n",
       "3                   The Course of Empire: Desolation  1836   \n",
       "4             The Course of Empire: The Savage State  1834   \n",
       "\n",
       "                                     Image Thumbnail  \n",
       "0  https://stor.artstor.org/stor/9e73d2b2-40b3-4f...  \n",
       "1  https://stor.artstor.org/stor/7efe4ec8-866d-4e...  \n",
       "2  https://mdxdv.artstor.org/thumb/imgstor/size1/...  \n",
       "3  https://stor.artstor.org/stor/e3912495-a1c9-4d...  \n",
       "4  https://stor.artstor.org/stor/411d80c3-58bb-47...  "
      ]
     },
     "execution_count": 64,
     "metadata": {},
     "output_type": "execute_result"
    }
   ],
   "source": [
    "# Thomas Cole\n",
    "t = pd.read_csv(\"data/tcole.csv\")\n",
    "t['Date'] = t['Date'].str.extract(r'(\\d{4})')\n",
    "t.dropna(inplace=True)\n",
    "t['Date'] = t['Date'].astype(int)\n",
    "t.head(5)"
   ]
  },
  {
   "cell_type": "code",
   "execution_count": 65,
   "metadata": {},
   "outputs": [
    {
     "data": {
      "text/plain": [
       "(274, 179, 86, 320)"
      ]
     },
     "execution_count": 65,
     "metadata": {},
     "output_type": "execute_result"
    }
   ],
   "source": [
    "len(ab), len(fe), len(sr), len(t)\n",
    "# Due to size difference, we would leave gifford out for now"
   ]
  },
  {
   "cell_type": "code",
   "execution_count": 66,
   "metadata": {},
   "outputs": [
    {
     "name": "stderr",
     "output_type": "stream",
     "text": [
      "<ipython-input-66-0b27a3870ab7>:1: FutureWarning: The frame.append method is deprecated and will be removed from pandas in a future version. Use pandas.concat instead.\n",
      "  df = ab.append(fe).append(t)\n",
      "<ipython-input-66-0b27a3870ab7>:1: FutureWarning: The frame.append method is deprecated and will be removed from pandas in a future version. Use pandas.concat instead.\n",
      "  df = ab.append(fe).append(t)\n"
     ]
    }
   ],
   "source": [
    "df = ab.append(fe).append(t)"
   ]
  },
  {
   "cell_type": "code",
   "execution_count": 67,
   "metadata": {},
   "outputs": [
    {
     "data": {
      "text/html": [
       "<div>\n",
       "<style scoped>\n",
       "    .dataframe tbody tr th:only-of-type {\n",
       "        vertical-align: middle;\n",
       "    }\n",
       "\n",
       "    .dataframe tbody tr th {\n",
       "        vertical-align: top;\n",
       "    }\n",
       "\n",
       "    .dataframe thead th {\n",
       "        text-align: right;\n",
       "    }\n",
       "</style>\n",
       "<table border=\"1\" class=\"dataframe\">\n",
       "  <thead>\n",
       "    <tr style=\"text-align: right;\">\n",
       "      <th></th>\n",
       "      <th>Unnamed: 0</th>\n",
       "      <th>index</th>\n",
       "      <th>Artist</th>\n",
       "      <th>Art Name</th>\n",
       "      <th>Date</th>\n",
       "      <th>Image Thumbnail</th>\n",
       "    </tr>\n",
       "  </thead>\n",
       "  <tbody>\n",
       "    <tr>\n",
       "      <th>0</th>\n",
       "      <td>0</td>\n",
       "      <td>0</td>\n",
       "      <td>Asher Brown Durand</td>\n",
       "      <td>The Declaration of Independence, July 4, 1776</td>\n",
       "      <td>1823</td>\n",
       "      <td>https://stor.artstor.org/stor/e676f1cc-b8ed-4b...</td>\n",
       "    </tr>\n",
       "    <tr>\n",
       "      <th>1</th>\n",
       "      <td>1</td>\n",
       "      <td>1</td>\n",
       "      <td>Asher Brown Durand</td>\n",
       "      <td>Kaaterskill Landscape</td>\n",
       "      <td>1850</td>\n",
       "      <td>https://stor.artstor.org/stor/7d7f42c3-66b4-41...</td>\n",
       "    </tr>\n",
       "    <tr>\n",
       "      <th>2</th>\n",
       "      <td>2</td>\n",
       "      <td>2</td>\n",
       "      <td>Asher Brown Durand</td>\n",
       "      <td>Kindred spirits</td>\n",
       "      <td>1849</td>\n",
       "      <td>https://stor.artstor.org/stor/4e029f92-5ede-49...</td>\n",
       "    </tr>\n",
       "    <tr>\n",
       "      <th>4</th>\n",
       "      <td>4</td>\n",
       "      <td>4</td>\n",
       "      <td>Asher Brown Durand</td>\n",
       "      <td>Forest in the Morning Light</td>\n",
       "      <td>1855</td>\n",
       "      <td>https://stor.artstor.org/stor/d9031fcc-b1d1-4a...</td>\n",
       "    </tr>\n",
       "    <tr>\n",
       "      <th>5</th>\n",
       "      <td>5</td>\n",
       "      <td>5</td>\n",
       "      <td>Asher Brown Durand</td>\n",
       "      <td>A Pastoral Scene</td>\n",
       "      <td>1858</td>\n",
       "      <td>https://stor.artstor.org/stor/b5447cd0-0e12-49...</td>\n",
       "    </tr>\n",
       "  </tbody>\n",
       "</table>\n",
       "</div>"
      ],
      "text/plain": [
       "   Unnamed: 0  index              Artist  \\\n",
       "0           0      0  Asher Brown Durand   \n",
       "1           1      1  Asher Brown Durand   \n",
       "2           2      2  Asher Brown Durand   \n",
       "4           4      4  Asher Brown Durand   \n",
       "5           5      5  Asher Brown Durand   \n",
       "\n",
       "                                        Art Name  Date  \\\n",
       "0  The Declaration of Independence, July 4, 1776  1823   \n",
       "1                          Kaaterskill Landscape  1850   \n",
       "2                                Kindred spirits  1849   \n",
       "4                    Forest in the Morning Light  1855   \n",
       "5                               A Pastoral Scene  1858   \n",
       "\n",
       "                                     Image Thumbnail  \n",
       "0  https://stor.artstor.org/stor/e676f1cc-b8ed-4b...  \n",
       "1  https://stor.artstor.org/stor/7d7f42c3-66b4-41...  \n",
       "2  https://stor.artstor.org/stor/4e029f92-5ede-49...  \n",
       "4  https://stor.artstor.org/stor/d9031fcc-b1d1-4a...  \n",
       "5  https://stor.artstor.org/stor/b5447cd0-0e12-49...  "
      ]
     },
     "execution_count": 67,
     "metadata": {},
     "output_type": "execute_result"
    }
   ],
   "source": [
    "df.head()"
   ]
  },
  {
   "cell_type": "code",
   "execution_count": 68,
   "metadata": {},
   "outputs": [
    {
     "data": {
      "text/html": [
       "<div>\n",
       "<style scoped>\n",
       "    .dataframe tbody tr th:only-of-type {\n",
       "        vertical-align: middle;\n",
       "    }\n",
       "\n",
       "    .dataframe tbody tr th {\n",
       "        vertical-align: top;\n",
       "    }\n",
       "\n",
       "    .dataframe thead th {\n",
       "        text-align: right;\n",
       "    }\n",
       "</style>\n",
       "<table border=\"1\" class=\"dataframe\">\n",
       "  <thead>\n",
       "    <tr style=\"text-align: right;\">\n",
       "      <th></th>\n",
       "      <th>Unnamed: 0</th>\n",
       "      <th>index</th>\n",
       "      <th>Date</th>\n",
       "    </tr>\n",
       "  </thead>\n",
       "  <tbody>\n",
       "    <tr>\n",
       "      <th>count</th>\n",
       "      <td>773.000000</td>\n",
       "      <td>773.000000</td>\n",
       "      <td>773.000000</td>\n",
       "    </tr>\n",
       "    <tr>\n",
       "      <th>mean</th>\n",
       "      <td>139.388098</td>\n",
       "      <td>161.967658</td>\n",
       "      <td>1843.683053</td>\n",
       "    </tr>\n",
       "    <tr>\n",
       "      <th>std</th>\n",
       "      <td>87.181096</td>\n",
       "      <td>116.264384</td>\n",
       "      <td>21.096108</td>\n",
       "    </tr>\n",
       "    <tr>\n",
       "      <th>min</th>\n",
       "      <td>0.000000</td>\n",
       "      <td>0.000000</td>\n",
       "      <td>1735.000000</td>\n",
       "    </tr>\n",
       "    <tr>\n",
       "      <th>25%</th>\n",
       "      <td>67.000000</td>\n",
       "      <td>68.000000</td>\n",
       "      <td>1832.000000</td>\n",
       "    </tr>\n",
       "    <tr>\n",
       "      <th>50%</th>\n",
       "      <td>132.000000</td>\n",
       "      <td>145.000000</td>\n",
       "      <td>1840.000000</td>\n",
       "    </tr>\n",
       "    <tr>\n",
       "      <th>75%</th>\n",
       "      <td>207.000000</td>\n",
       "      <td>231.000000</td>\n",
       "      <td>1855.000000</td>\n",
       "    </tr>\n",
       "    <tr>\n",
       "      <th>max</th>\n",
       "      <td>331.000000</td>\n",
       "      <td>479.000000</td>\n",
       "      <td>2012.000000</td>\n",
       "    </tr>\n",
       "  </tbody>\n",
       "</table>\n",
       "</div>"
      ],
      "text/plain": [
       "       Unnamed: 0       index         Date\n",
       "count  773.000000  773.000000   773.000000\n",
       "mean   139.388098  161.967658  1843.683053\n",
       "std     87.181096  116.264384    21.096108\n",
       "min      0.000000    0.000000  1735.000000\n",
       "25%     67.000000   68.000000  1832.000000\n",
       "50%    132.000000  145.000000  1840.000000\n",
       "75%    207.000000  231.000000  1855.000000\n",
       "max    331.000000  479.000000  2012.000000"
      ]
     },
     "execution_count": 68,
     "metadata": {},
     "output_type": "execute_result"
    }
   ],
   "source": [
    "df.describe()"
   ]
  },
  {
   "cell_type": "code",
   "execution_count": 69,
   "metadata": {},
   "outputs": [
    {
     "data": {
      "text/plain": [
       "Unnamed: 0         773\n",
       "index              773\n",
       "Artist             773\n",
       "Art Name           773\n",
       "Date               773\n",
       "Image Thumbnail    773\n",
       "dtype: int64"
      ]
     },
     "execution_count": 69,
     "metadata": {},
     "output_type": "execute_result"
    }
   ],
   "source": [
    "df.count()"
   ]
  },
  {
   "cell_type": "code",
   "execution_count": 70,
   "metadata": {},
   "outputs": [
    {
     "data": {
      "image/png": "[encoded data removed]",
      "text/plain": [
       "<Figure size 432x288 with 1 Axes>"
      ]
     },
     "metadata": {},
     "output_type": "display_data"
    }
   ],
   "source": [
    "y = np.array([len(ab), len(fe), len(t)])\n",
    "labels = [\"AB Durand\", \"FE Church\", \"Thomas Cole\"]\n",
    "plt.pie(y, labels=labels)\n",
    "plt.show()"
   ]
  },
  {
   "cell_type": "code",
   "execution_count": 71,
   "metadata": {},
   "outputs": [
    {
     "data": {
      "text/plain": [
       "<AxesSubplot:xlabel='Date'>"
      ]
     },
     "execution_count": 71,
     "metadata": {},
     "output_type": "execute_result"
    },
    {
     "data": {
      "image/png": "[encoded data removed]",
      "text/plain": [
       "<Figure size 432x288 with 1 Axes>"
      ]
     },
     "metadata": {},
     "output_type": "display_data"
    }
   ],
   "source": [
    "sns.boxplot(x=df['Date'])"
   ]
  },
  {
   "cell_type": "code",
   "execution_count": 111,
   "metadata": {},
   "outputs": [
    {
     "data": {
      "image/png": "[encoded data removed]",
      "text/plain": [
       "<Figure size 864x432 with 1 Axes>"
      ]
     },
     "metadata": {},
     "output_type": "display_data"
    }
   ],
   "source": [
    "df.Date.value_counts().nlargest(20).plot(kind='bar', figsize=(12,6))\n",
    "plt.title(\"Number of Paintings by Date\")\n",
    "plt.ylabel(\"Number of Paintings\")\n",
    "plt.xlabel(\"Date\")\n",
    "plt.savefig(\"graph/Number of Paintings by Date by all(Top 20).jpg\")"
   ]
  },
  {
   "cell_type": "code",
   "execution_count": 110,
   "metadata": {},
   "outputs": [
    {
     "data": {
      "image/png": "[encoded data removed]",
      "text/plain": [
       "<Figure size 864x432 with 1 Axes>"
      ]
     },
     "metadata": {},
     "output_type": "display_data"
    }
   ],
   "source": [
    "ab.Date.value_counts().nlargest(20).plot(kind='bar', figsize=(12,6))\n",
    "plt.title(\"Number of Paintings by Date by AB Durand\")\n",
    "plt.ylabel(\"Number of Paintings\")\n",
    "plt.xlabel(\"Date\")\n",
    "plt.savefig(\"graph/Number of Paintings by Date by Durand(Top 20).jpg\")"
   ]
  },
  {
   "cell_type": "code",
   "execution_count": 109,
   "metadata": {},
   "outputs": [
    {
     "data": {
      "image/png": "[encoded data removed]",
      "text/plain": [
       "<Figure size 864x432 with 1 Axes>"
      ]
     },
     "metadata": {},
     "output_type": "display_data"
    }
   ],
   "source": [
    "fe.Date.value_counts().nlargest(20).plot(kind='bar', figsize=(12,6))\n",
    "plt.title(\"Number of Paintings by Date by FE Church\")\n",
    "plt.ylabel(\"Number of Paintings\")\n",
    "plt.xlabel(\"Date\")\n",
    "plt.savefig(\"graph/Number of Paintings by Date by Church(Top 20).jpg\")"
   ]
  },
  {
   "cell_type": "code",
   "execution_count": 108,
   "metadata": {},
   "outputs": [
    {
     "data": {
      "image/png": "[encoded data removed]",
      "text/plain": [
       "<Figure size 864x432 with 1 Axes>"
      ]
     },
     "metadata": {},
     "output_type": "display_data"
    }
   ],
   "source": [
    "t.Date.value_counts().nlargest(20).plot(kind='bar', figsize=(12,6))\n",
    "plt.title(\"Number of Paintings by Date by Thomas Cole\")\n",
    "plt.ylabel(\"Number of Paintings\")\n",
    "plt.xlabel(\"Date\")\n",
    "plt.savefig(\"graph/Number of Paintings by Date by Thomas Cole(Top 20).jpg\")"
   ]
  },
  {
   "cell_type": "code",
   "execution_count": 101,
   "metadata": {},
   "outputs": [
    {
     "data": {
      "text/html": [
       "<div>\n",
       "<style scoped>\n",
       "    .dataframe tbody tr th:only-of-type {\n",
       "        vertical-align: middle;\n",
       "    }\n",
       "\n",
       "    .dataframe tbody tr th {\n",
       "        vertical-align: top;\n",
       "    }\n",
       "\n",
       "    .dataframe thead th {\n",
       "        text-align: right;\n",
       "    }\n",
       "</style>\n",
       "<table border=\"1\" class=\"dataframe\">\n",
       "  <thead>\n",
       "    <tr style=\"text-align: right;\">\n",
       "      <th></th>\n",
       "      <th>Unnamed: 0</th>\n",
       "      <th>index</th>\n",
       "      <th>Artist</th>\n",
       "      <th>Art Name</th>\n",
       "      <th>Date</th>\n",
       "      <th>Image Thumbnail</th>\n",
       "    </tr>\n",
       "  </thead>\n",
       "  <tbody>\n",
       "    <tr>\n",
       "      <th>0</th>\n",
       "      <td>0</td>\n",
       "      <td>0</td>\n",
       "      <td>Asher Brown Durand</td>\n",
       "      <td>The Declaration of Independence, July 4, 1776</td>\n",
       "      <td>1823</td>\n",
       "      <td>https://stor.artstor.org/stor/e676f1cc-b8ed-4b...</td>\n",
       "    </tr>\n",
       "    <tr>\n",
       "      <th>1</th>\n",
       "      <td>1</td>\n",
       "      <td>1</td>\n",
       "      <td>Asher Brown Durand</td>\n",
       "      <td>Kaaterskill Landscape</td>\n",
       "      <td>1850</td>\n",
       "      <td>https://stor.artstor.org/stor/7d7f42c3-66b4-41...</td>\n",
       "    </tr>\n",
       "    <tr>\n",
       "      <th>2</th>\n",
       "      <td>2</td>\n",
       "      <td>2</td>\n",
       "      <td>Asher Brown Durand</td>\n",
       "      <td>Kindred spirits</td>\n",
       "      <td>1849</td>\n",
       "      <td>https://stor.artstor.org/stor/4e029f92-5ede-49...</td>\n",
       "    </tr>\n",
       "    <tr>\n",
       "      <th>4</th>\n",
       "      <td>4</td>\n",
       "      <td>4</td>\n",
       "      <td>Asher Brown Durand</td>\n",
       "      <td>Forest in the Morning Light</td>\n",
       "      <td>1855</td>\n",
       "      <td>https://stor.artstor.org/stor/d9031fcc-b1d1-4a...</td>\n",
       "    </tr>\n",
       "    <tr>\n",
       "      <th>5</th>\n",
       "      <td>5</td>\n",
       "      <td>5</td>\n",
       "      <td>Asher Brown Durand</td>\n",
       "      <td>A Pastoral Scene</td>\n",
       "      <td>1858</td>\n",
       "      <td>https://stor.artstor.org/stor/b5447cd0-0e12-49...</td>\n",
       "    </tr>\n",
       "  </tbody>\n",
       "</table>\n",
       "</div>"
      ],
      "text/plain": [
       "   Unnamed: 0  index              Artist  \\\n",
       "0           0      0  Asher Brown Durand   \n",
       "1           1      1  Asher Brown Durand   \n",
       "2           2      2  Asher Brown Durand   \n",
       "4           4      4  Asher Brown Durand   \n",
       "5           5      5  Asher Brown Durand   \n",
       "\n",
       "                                        Art Name  Date  \\\n",
       "0  The Declaration of Independence, July 4, 1776  1823   \n",
       "1                          Kaaterskill Landscape  1850   \n",
       "2                                Kindred spirits  1849   \n",
       "4                    Forest in the Morning Light  1855   \n",
       "5                               A Pastoral Scene  1858   \n",
       "\n",
       "                                     Image Thumbnail  \n",
       "0  https://stor.artstor.org/stor/e676f1cc-b8ed-4b...  \n",
       "1  https://stor.artstor.org/stor/7d7f42c3-66b4-41...  \n",
       "2  https://stor.artstor.org/stor/4e029f92-5ede-49...  \n",
       "4  https://stor.artstor.org/stor/d9031fcc-b1d1-4a...  \n",
       "5  https://stor.artstor.org/stor/b5447cd0-0e12-49...  "
      ]
     },
     "execution_count": 101,
     "metadata": {},
     "output_type": "execute_result"
    }
   ],
   "source": [
    "bydate = df[(df['Date'] < 1880) & (df['Date'] > 1800)]\n",
    "bydate.head(5)"
   ]
  },
  {
   "cell_type": "code",
   "execution_count": 106,
   "metadata": {},
   "outputs": [
    {
     "data": {
      "text/plain": [
       "[Text(0.5, 1.0, 'Histogram of Counts of Paintings Per Year')]"
      ]
     },
     "execution_count": 106,
     "metadata": {},
     "output_type": "execute_result"
    },
    {
     "data": {
      "image/png": "[encoded data removed]",
      "text/plain": [
       "<Figure size 432x288 with 1 Axes>"
      ]
     },
     "metadata": {},
     "output_type": "display_data"
    }
   ],
   "source": [
    "bydate_hist = sns.histplot(bydate['Date'])\n",
    "bydate_hist.set(title='Histogram of Counts of Paintings Per Year')"
   ]
  },
  {
   "cell_type": "code",
   "execution_count": 107,
   "metadata": {},
   "outputs": [],
   "source": [
    "fig = bydate_hist.get_figure()\n",
    "fig.savefig(\"graph/CountsOfPaintingsByYear1800-1880.jpg\")"
   ]
  },
  {
   "cell_type": "code",
   "execution_count": 114,
   "metadata": {},
   "outputs": [
    {
     "data": {
      "image/png": "[encoded data removed]",
      "text/plain": [
       "<Figure size 432x288 with 1 Axes>"
      ]
     },
     "metadata": {},
     "output_type": "display_data"
    }
   ],
   "source": [
    "scatter = sns.scatterplot(x=bydate[\"Date\"],y=bydate[\"Artist\"])"
   ]
  },
  {
   "cell_type": "code",
   "execution_count": 115,
   "metadata": {},
   "outputs": [],
   "source": [
    "fig = scatter.get_figure()\n",
    "fig.savefig(\"graph/ScatterPlot of Paintings Per Artist Per year.jpg\")"
   ]
  },
  {
   "cell_type": "code",
   "execution_count": null,
   "metadata": {},
   "outputs": [],
   "source": []
  }
 ],
 "metadata": {
  "interpreter": {
   "hash": "69ab596db5f6481241bf77c3c2c4aa754f41ef65e25e0f4080f42358e503856a"
  },
  "kernelspec": {
   "display_name": "Python 3.8.11 ('a')",
   "language": "python",
   "name": "python3"
  },
  "language_info": {
   "codemirror_mode": {
    "name": "ipython",
    "version": 3
   },
   "file_extension": ".py",
   "mimetype": "text/x-python",
   "name": "python",
   "nbconvert_exporter": "python",
   "pygments_lexer": "ipython3",
   "version": "3.8.11"
  },
  "orig_nbformat": 4
 },
 "nbformat": 4,
 "nbformat_minor": 2
}
