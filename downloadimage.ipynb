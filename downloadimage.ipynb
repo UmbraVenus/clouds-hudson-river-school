{
 "cells": [
  {
   "cell_type": "markdown",
   "metadata": {},
   "source": [
    "# Cloud Classification 03302022\n",
    "# Authors: Dr.Justin Underhill, Sage Ren"
   ]
  },
  {
   "cell_type": "code",
   "execution_count": 1,
   "metadata": {},
   "outputs": [],
   "source": [
    "scraped = \"scraped/\""
   ]
  },
  {
   "cell_type": "markdown",
   "metadata": {},
   "source": [
    "## Downloading images from scraped data\n",
    "We have already scraped data into CSV file with links to thumbnail image, now we would use python to download these images to seperate folders for classification use with folder name as well as their own filename as labels."
   ]
  },
  {
   "cell_type": "code",
   "execution_count": 2,
   "metadata": {},
   "outputs": [],
   "source": [
    "import pandas as pd\n",
    "import requests"
   ]
  },
  {
   "cell_type": "code",
   "execution_count": 16,
   "metadata": {},
   "outputs": [
    {
     "data": {
      "text/plain": [
       "(   index                                             Artist  \\\n",
       " 0      0  Thomas Moran, North American; American, 1837 -...   \n",
       " 1      1                Thomas Moran, American, 1837 - 1926   \n",
       " 2      2                             Thomas Moran, American   \n",
       " 3      3                                       Thomas Moran   \n",
       " 4      4  Thomas Moran, North American; American, 1837 E...   \n",
       " \n",
       "                              Art Name           Date  \\\n",
       " 0              The Ruby Range, Nevada           1879   \n",
       " 1  Grand Canyon of the Colorado River  1892 and 1908   \n",
       " 2                      View of Venice           1888   \n",
       " 3        Cliffs, Green River, Wyoming           1872   \n",
       " 4      Above Tower Falls, Yellowstone           1872   \n",
       " \n",
       "                                      Image Thumbnail  \n",
       " 0  https://stor.artstor.org/stor/132b5112-0664-4d...  \n",
       " 1  https://stor.artstor.org/stor/8402c259-34cc-4d...  \n",
       " 2  https://stor.artstor.org/stor/df9606d2-a8a0-42...  \n",
       " 3  https://stor.artstor.org/stor/30f110e4-87c0-4e...  \n",
       " 4  https://stor.artstor.org/stor/93e3174d-0197-48...  ,\n",
       " 181)"
      ]
     },
     "execution_count": 16,
     "metadata": {},
     "output_type": "execute_result"
    }
   ],
   "source": [
    "#stands for pandas + durand, repeat for all four artists\n",
    "pddurand = pd.read_csv(scraped+\"tmoran.csv\")\n",
    "pddurand.dropna(inplace=True)\n",
    "pddurand = pddurand[pddurand[\"Artist\"].str.contains('Moran')]\n",
    "pddurand.drop_duplicates(inplace=True)\n",
    "pddurand.reset_index(inplace=True)\n",
    "pddurand.head(), len(pddurand)"
   ]
  },
  {
   "cell_type": "code",
   "execution_count": 17,
   "metadata": {},
   "outputs": [],
   "source": [
    "for index, row in pddurand.iterrows():\n",
    "    try:\n",
    "        img_data = requests.get(row['Image Thumbnail']).content\n",
    "        with open(\"images/moran/\"+str(index)+\"_moran_\"+row['Art Name']+\".jpg\", 'wb') as handler:\n",
    "            handler.write(img_data)\n",
    "    except FileNotFoundError:\n",
    "        continue"
   ]
  },
  {
   "cell_type": "code",
   "execution_count": 18,
   "metadata": {},
   "outputs": [
    {
     "data": {
      "text/html": [
       "<div>\n",
       "<style scoped>\n",
       "    .dataframe tbody tr th:only-of-type {\n",
       "        vertical-align: middle;\n",
       "    }\n",
       "\n",
       "    .dataframe tbody tr th {\n",
       "        vertical-align: top;\n",
       "    }\n",
       "\n",
       "    .dataframe thead th {\n",
       "        text-align: right;\n",
       "    }\n",
       "</style>\n",
       "<table border=\"1\" class=\"dataframe\">\n",
       "  <thead>\n",
       "    <tr style=\"text-align: right;\">\n",
       "      <th></th>\n",
       "      <th>index</th>\n",
       "      <th>Artist</th>\n",
       "      <th>Art Name</th>\n",
       "      <th>Date</th>\n",
       "      <th>Image Thumbnail</th>\n",
       "    </tr>\n",
       "  </thead>\n",
       "  <tbody>\n",
       "    <tr>\n",
       "      <th>0</th>\n",
       "      <td>0</td>\n",
       "      <td>Thomas Moran</td>\n",
       "      <td>The Ruby Range, Nevada</td>\n",
       "      <td>1879</td>\n",
       "      <td>https://stor.artstor.org/stor/132b5112-0664-4d...</td>\n",
       "    </tr>\n",
       "    <tr>\n",
       "      <th>1</th>\n",
       "      <td>1</td>\n",
       "      <td>Thomas Moran</td>\n",
       "      <td>Grand Canyon of the Colorado River</td>\n",
       "      <td>1892 and 1908</td>\n",
       "      <td>https://stor.artstor.org/stor/8402c259-34cc-4d...</td>\n",
       "    </tr>\n",
       "    <tr>\n",
       "      <th>2</th>\n",
       "      <td>2</td>\n",
       "      <td>Thomas Moran</td>\n",
       "      <td>View of Venice</td>\n",
       "      <td>1888</td>\n",
       "      <td>https://stor.artstor.org/stor/df9606d2-a8a0-42...</td>\n",
       "    </tr>\n",
       "    <tr>\n",
       "      <th>3</th>\n",
       "      <td>3</td>\n",
       "      <td>Thomas Moran</td>\n",
       "      <td>Cliffs, Green River, Wyoming</td>\n",
       "      <td>1872</td>\n",
       "      <td>https://stor.artstor.org/stor/30f110e4-87c0-4e...</td>\n",
       "    </tr>\n",
       "    <tr>\n",
       "      <th>4</th>\n",
       "      <td>4</td>\n",
       "      <td>Thomas Moran</td>\n",
       "      <td>Above Tower Falls, Yellowstone</td>\n",
       "      <td>1872</td>\n",
       "      <td>https://stor.artstor.org/stor/93e3174d-0197-48...</td>\n",
       "    </tr>\n",
       "  </tbody>\n",
       "</table>\n",
       "</div>"
      ],
      "text/plain": [
       "   index        Artist                            Art Name           Date  \\\n",
       "0      0  Thomas Moran              The Ruby Range, Nevada           1879   \n",
       "1      1  Thomas Moran  Grand Canyon of the Colorado River  1892 and 1908   \n",
       "2      2  Thomas Moran                      View of Venice           1888   \n",
       "3      3  Thomas Moran        Cliffs, Green River, Wyoming           1872   \n",
       "4      4  Thomas Moran      Above Tower Falls, Yellowstone           1872   \n",
       "\n",
       "                                     Image Thumbnail  \n",
       "0  https://stor.artstor.org/stor/132b5112-0664-4d...  \n",
       "1  https://stor.artstor.org/stor/8402c259-34cc-4d...  \n",
       "2  https://stor.artstor.org/stor/df9606d2-a8a0-42...  \n",
       "3  https://stor.artstor.org/stor/30f110e4-87c0-4e...  \n",
       "4  https://stor.artstor.org/stor/93e3174d-0197-48...  "
      ]
     },
     "execution_count": 18,
     "metadata": {},
     "output_type": "execute_result"
    }
   ],
   "source": [
    "#Don't forget to change artist name\n",
    "pddurand = pddurand.assign(Artist='Thomas Moran')\n",
    "pddurand.head()"
   ]
  },
  {
   "cell_type": "code",
   "execution_count": 19,
   "metadata": {},
   "outputs": [],
   "source": [
    "pddurand.to_csv(\"data/tmoran.csv\", index=False)"
   ]
  },
  {
   "cell_type": "code",
   "execution_count": null,
   "metadata": {},
   "outputs": [],
   "source": []
  }
 ],
 "metadata": {
  "interpreter": {
   "hash": "69ab596db5f6481241bf77c3c2c4aa754f41ef65e25e0f4080f42358e503856a"
  },
  "kernelspec": {
   "display_name": "Python 3.8.11 ('a')",
   "language": "python",
   "name": "python3"
  },
  "language_info": {
   "codemirror_mode": {
    "name": "ipython",
    "version": 3
   },
   "file_extension": ".py",
   "mimetype": "text/x-python",
   "name": "python",
   "nbconvert_exporter": "python",
   "pygments_lexer": "ipython3",
   "version": "3.8.11"
  },
  "orig_nbformat": 4
 },
 "nbformat": 4,
 "nbformat_minor": 2
}
